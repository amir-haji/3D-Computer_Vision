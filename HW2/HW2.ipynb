{
 "cells": [
  {
   "cell_type": "markdown",
   "metadata": {
    "id": "IHZfoNCmBVO-"
   },
   "source": [
    "Name:  Amir Hossein Haji Mohammad Rezaie           \n",
    "Student ID: 99109252"
   ]
  },
  {
   "cell_type": "markdown",
   "metadata": {
    "id": "Imp0o_BDMPc4"
   },
   "source": [
    "**Part 1**\n",
    "\n",
    " Write two functions named \"camera_matrix\" and \"camera_projection\". The first one gets all the camera parameters, containing λ, f (focal length), Sx, Sy, Sθ, Ox, Oy, R, T, and returns the camera matrix (Please provide comments above each stage of transformation). The second function projects a given 3D point on image and returns a 2D point in pixel coordinates."
   ]
  },
  {
   "cell_type": "code",
   "execution_count": 49,
   "metadata": {
    "id": "YCw0SrVcBRpe"
   },
   "outputs": [],
   "source": [
    "import numpy as np\n",
    "\n",
    "def camer_matrix(lamda, f, Sx, Sy, S_theta, Ox, Oy, R, T):\n",
    "    \n",
    "    # extrinsic camera parameters (translation & rotation)\n",
    "    mat1 = np.concatenate((R, T), axis=1)\n",
    "    mat1 = np.concatenate((mat1, np.array([[0, 0, 0, 1]])), axis=0)\n",
    "    \n",
    "    # projection matrix\n",
    "    mat2 = np.concatenate((np.identity(3), np.zeros((3, 1))), axis=1)\n",
    "    \n",
    "    # calibration matrix (intrinsic camera parameters (f, scale, skew, pixel coordiante origins))\n",
    "    mat3 = np.array([f*Sx, f*S_theta, Ox, 0, f*Sy, Oy, 0, 0, 1]).reshape(3, 3)\n",
    "    \n",
    "    # compute final camera projection matrix\n",
    "    matrix = lamda * (mat3 @ mat2 @mat1)\n",
    "\n",
    "    return matrix\n",
    "\n",
    "def camera_projection(X, Y, Z, matrix):\n",
    "    vector = np.array([X, Y, Z, 1]).reshape(4, 1)\n",
    "    projected_vector = (matrix @ vector).reshape(-1, )\n",
    "    x, y, z = projected_vector\n",
    "    # homogeneous coordinate\n",
    "    return x/Z, y/Z\n"
   ]
  },
  {
   "cell_type": "markdown",
   "metadata": {
    "id": "sNDAg8TtSmHY"
   },
   "source": [
    "**Part 2**\n",
    "\n",
    "Consider a pinhole camera with center located at (1, 1, -3), which its focal length is 100, scale factors (Sx, Sy) are both 1 and pixel coordinates of principal point is (50, 50). Also skew parameter is zero. The angle of the camera is such that the optical axis of the camera is parallel to the z axis. Using the previous function obtain the whole camera matrix."
   ]
  },
  {
   "cell_type": "code",
   "execution_count": 50,
   "metadata": {
    "id": "hxfSKvOdTEe_"
   },
   "outputs": [
    {
     "data": {
      "text/plain": [
       "array([[100.,   0.,  50.,  50.],\n",
       "       [  0., 100.,  50.,  50.],\n",
       "       [  0.,   0.,   1.,   3.]])"
      ]
     },
     "execution_count": 50,
     "metadata": {},
     "output_type": "execute_result"
    }
   ],
   "source": [
    "lamda = 1\n",
    "T = np.array([[-1, -1, 3]]).reshape(3, 1)\n",
    "R = np.identity(3)\n",
    "f = 100\n",
    "Sx = Sy = 1\n",
    "S_theta = 0\n",
    "Ox = Oy =50\n",
    "\n",
    "cam_matrix = camer_matrix(lamda, f, Sx, Sy, S_theta, Ox, Oy, R, T)\n",
    "\n",
    "cam_matrix"
   ]
  },
  {
   "cell_type": "markdown",
   "metadata": {
    "id": "5jGzVpW-TFIb"
   },
   "source": [
    "**Part 3**\n",
    "\n",
    "Suppose that vector V: (0, 1, 1) is located at (1, 1, 3) in 3D space. Apply the obtained camera matrix to V. Plot the result in pixel coordinates in a 2D plot. From which step of projection the length of the vector changes?\n",
    "\n",
    "Answer: after producting vector with calibration matrix, the vectore length changes as a result of multiplying scale factors to vector."
   ]
  },
  {
   "cell_type": "code",
   "execution_count": 51,
   "metadata": {
    "id": "hxRF8-MLTbFZ"
   },
   "outputs": [],
   "source": [
    "vec = np.array([0, 1, 1])\n",
    "p1 = np.array([1, 1, 3])\n",
    "\n",
    "# sampling 100 points that are placed on the vector\n",
    "x_t = []\n",
    "y_t = []\n",
    "for i in range(1, 101):\n",
    "    X, Y, Z = p1 + (i/100)*vec\n",
    "    x, y = camera_projection(X, Y, Z, cam_matrix)\n",
    "    x_t.append(x)\n",
    "    y_t.append(y)"
   ]
  },
  {
   "cell_type": "code",
   "execution_count": 52,
   "metadata": {},
   "outputs": [
    {
     "data": {
      "text/plain": [
       "<matplotlib.collections.PathCollection at 0x11cee0eb0>"
      ]
     },
     "execution_count": 52,
     "metadata": {},
     "output_type": "execute_result"
    },
    {
     "data": {
      "image/png": "[encoded data removed]",
      "text/plain": [
       "<Figure size 432x288 with 1 Axes>"
      ]
     },
     "metadata": {
      "needs_background": "light"
     },
     "output_type": "display_data"
    }
   ],
   "source": [
    "import matplotlib.pyplot as plt\n",
    "\n",
    "plt.scatter(x_t, y_t)"
   ]
  },
  {
   "cell_type": "markdown",
   "metadata": {
    "id": "DhVMnoXWbYcM"
   },
   "source": [
    "**Part 4**\n",
    "\n",
    "If the camera is rotated by +25 degrees around x axis, how would R and T change? What would the final image be?"
   ]
  },
  {
   "cell_type": "code",
   "execution_count": 53,
   "metadata": {
    "id": "RWnW4HvgbhVB"
   },
   "outputs": [],
   "source": [
    "import math as m\n",
    "def Rx(theta):\n",
    "    return np.array([[ 1, 0           , 0           ],\n",
    "                      [ 0, m.cos(theta),-m.sin(theta)],\n",
    "                      [ 0, m.sin(theta), m.cos(theta)]])\n",
    "\n",
    "R = Rx(25 * m.pi/180)\n",
    "cam_matrix = camer_matrix(lamda, f, Sx, Sy, S_theta, Ox, Oy, R, T)"
   ]
  },
  {
   "cell_type": "code",
   "execution_count": 54,
   "metadata": {},
   "outputs": [
    {
     "data": {
      "text/plain": [
       "array([[100.        ,  21.13091309,  45.31538935,  50.        ],\n",
       "       [  0.        , 111.76169179,   3.05356318,  50.        ],\n",
       "       [  0.        ,   0.42261826,   0.90630779,   3.        ]])"
      ]
     },
     "execution_count": 54,
     "metadata": {},
     "output_type": "execute_result"
    }
   ],
   "source": [
    "cam_matrix"
   ]
  },
  {
   "cell_type": "code",
   "execution_count": 55,
   "metadata": {},
   "outputs": [],
   "source": [
    "p1 = np.array([0, 0, 1])\n",
    "vec = np.array([1, 1, 3])\n",
    "\n",
    "x_1 = []\n",
    "y_1 = []\n",
    "for i in range(1, 101):\n",
    "    X, Y, Z = p1 + (i/100)*vec\n",
    "    x, y = camera_projection(X, Y, Z, cam_matrix)\n",
    "    x_1.append(x)\n",
    "    y_1.append(y)\n",
    "    \n"
   ]
  },
  {
   "cell_type": "code",
   "execution_count": 56,
   "metadata": {},
   "outputs": [
    {
     "data": {
      "text/plain": [
       "<matplotlib.legend.Legend at 0x11cf0fa30>"
      ]
     },
     "execution_count": 56,
     "metadata": {},
     "output_type": "execute_result"
    },
    {
     "data": {
      "image/png": "[encoded data removed]",
      "text/plain": [
       "<Figure size 432x288 with 1 Axes>"
      ]
     },
     "metadata": {
      "needs_background": "light"
     },
     "output_type": "display_data"
    }
   ],
   "source": [
    "plt.scatter(x_t, y_t)\n",
    "plt.scatter(x_1, y_1, color='orange')\n",
    "plt.legend(['previous image', 'new image'])"
   ]
  },
  {
   "cell_type": "code",
   "execution_count": null,
   "metadata": {},
   "outputs": [],
   "source": []
  }
 ],
 "metadata": {
  "colab": {
   "provenance": []
  },
  "kernelspec": {
   "display_name": "Python 3 (ipykernel)",
   "language": "python",
   "name": "python3"
  },
  "language_info": {
   "codemirror_mode": {
    "name": "ipython",
    "version": 3
   },
   "file_extension": ".py",
   "mimetype": "text/x-python",
   "name": "python",
   "nbconvert_exporter": "python",
   "pygments_lexer": "ipython3",
   "version": "3.10.0"
  }
 },
 "nbformat": 4,
 "nbformat_minor": 1
}
